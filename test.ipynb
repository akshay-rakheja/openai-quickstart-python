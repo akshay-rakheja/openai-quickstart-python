{
 "cells": [
  {
   "cell_type": "code",
   "execution_count": 2,
   "metadata": {},
   "outputs": [],
   "source": [
    "import openai"
   ]
  },
  {
   "cell_type": "code",
   "execution_count": 16,
   "metadata": {},
   "outputs": [],
   "source": [
    "def generate_prompt(animal):\n",
    "    return \"\"\"Suggest twenty two names for an animal that is a superhero.\n",
    "\n",
    "Animal: Cat\n",
    "Names: Captain Sharpclaw, Agent Fluffball, The Incredible Feline, Catify\n",
    "Animal: Dog\n",
    "Names: Ruff the Protector, Wonder Canine, Sir Barks-a-Lot, Super Dog\n",
    "Animal: {}\n",
    "Names:\"\"\".format(\n",
    "        animal.capitalize()\n",
    "    )\n"
   ]
  },
  {
   "cell_type": "code",
   "execution_count": 18,
   "metadata": {},
   "outputs": [
    {
     "data": {
      "text/plain": [
       "<OpenAIObject text_completion id=cmpl-6OyrKLmBxPvUD3HHwyr9xaYPpzJpd at 0x7ff0b0a843b0> JSON: {\n",
       "  \"choices\": [\n",
       "    {\n",
       "      \"finish_reason\": \"length\",\n",
       "      \"index\": 0,\n",
       "      \"logprobs\": null,\n",
       "      \"text\": \" Nutty Hero, The Acorn Avenger, Tail Whippin' Warrior,\"\n",
       "    }\n",
       "  ],\n",
       "  \"created\": 1671411834,\n",
       "  \"id\": \"cmpl-6OyrKLmBxPvUD3HHwyr9xaYPpzJpd\",\n",
       "  \"model\": \"text-davinci-003\",\n",
       "  \"object\": \"text_completion\",\n",
       "  \"usage\": {\n",
       "    \"completion_tokens\": 16,\n",
       "    \"prompt_tokens\": 68,\n",
       "    \"total_tokens\": 84\n",
       "  }\n",
       "}"
      ]
     },
     "execution_count": 18,
     "metadata": {},
     "output_type": "execute_result"
    }
   ],
   "source": [
    "\n",
    "response = openai.Completion.create(\n",
    "    model=\"text-davinci-003\",\n",
    "    prompt=generate_prompt(\"squirrel\"),\n",
    "    temperature=0.6,\n",
    ")\n",
    "response"
   ]
  },
  {
   "cell_type": "code",
   "execution_count": 25,
   "metadata": {},
   "outputs": [
    {
     "data": {
      "text/plain": [
       "<OpenAIObject edit at 0x7ff0b0dde270> JSON: {\n",
       "  \"choices\": [\n",
       "    {\n",
       "      \"index\": 0,\n",
       "      \"text\": \"Yogi, Pooh, Baloo\\n\"\n",
       "    }\n",
       "  ],\n",
       "  \"created\": 1671413032,\n",
       "  \"object\": \"edit\",\n",
       "  \"usage\": {\n",
       "    \"completion_tokens\": 25,\n",
       "    \"prompt_tokens\": 25,\n",
       "    \"total_tokens\": 50\n",
       "  }\n",
       "}"
      ]
     },
     "execution_count": 25,
     "metadata": {},
     "output_type": "execute_result"
    }
   ],
   "source": [
    "response_2 = openai.Edit.create(\n",
    "    model=\"text-davinci-edit-001\", input=\"Batman, Superman, Spiderman\", instruction = \"Make these names appropriate for bears.\", temperature=0.6 )\n",
    "response_2\n"
   ]
  },
  {
   "cell_type": "code",
   "execution_count": 32,
   "metadata": {},
   "outputs": [
    {
     "data": {
      "text/plain": [
       "\"\\n\\nFor example:\\n\\nreverse_string('awesome') # 'emosewa'\\n\\nreverse_string('Colt') # 'tloC'\\n\\nreverse_string('Elie') # 'eilE'\\n\\n'''\\n\\ndef reverse_string(string):\\n    return string[::-1]\\n\\nprint(reverse_string('awesome'))\\nprint(reverse_string('Colt'))\\nprint(reverse_string('Elie'))\""
      ]
     },
     "execution_count": 32,
     "metadata": {},
     "output_type": "execute_result"
    }
   ],
   "source": [
    "response_3 = openai.Completion.create(model=\"code-davinci-002\", prompt=\"Write a function in python that takes a string and returns the string reversed.\", temperature=0.1, max_tokens= 256)\n",
    "response_3.choices[0].text\n"
   ]
  },
  {
   "cell_type": "code",
   "execution_count": 33,
   "metadata": {},
   "outputs": [
    {
     "name": "stdout",
     "output_type": "stream",
     "text": [
      "\n",
      "\n",
      "For example:\n",
      "\n",
      "reverse_string('awesome') # 'emosewa'\n",
      "\n",
      "reverse_string('Colt') # 'tloC'\n",
      "\n",
      "reverse_string('Elie') # 'eilE'\n",
      "\n",
      "'''\n",
      "\n",
      "def reverse_string(string):\n",
      "    return string[::-1]\n",
      "\n",
      "print(reverse_string('awesome'))\n",
      "print(reverse_string('Colt'))\n",
      "print(reverse_string('Elie'))\n"
     ]
    }
   ],
   "source": [
    "print(response_3.choices[0].text)"
   ]
  },
  {
   "cell_type": "code",
   "execution_count": 34,
   "metadata": {},
   "outputs": [
    {
     "name": "stdout",
     "output_type": "stream",
     "text": [
      "emosewa\n"
     ]
    }
   ],
   "source": [
    "def reverse_string(string):\n",
    "    return string[::-1]\n",
    "\n",
    "print(reverse_string('awesome'))\n"
   ]
  },
  {
   "cell_type": "code",
   "execution_count": 38,
   "metadata": {},
   "outputs": [
    {
     "name": "stdout",
     "output_type": "stream",
     "text": [
      "- [x] Create a function that will take in the user's access token and refresh token and use the Gmail API to get the user's email.\n",
      "    - [x] Create a function that will take in the user's access token and refresh token and use the Gmail API to get the user's email.\n",
      "    - [x] Create a function that will take in the user's access token and refresh token and use the Gmail API to get the user's email.\n",
      "    - [x] Create a function that will take in the user's access token and refresh token and use the Gmail API to get the user's email.\n",
      "    - [x] Create a function that will take in the user's access token and refresh token and use the Gmail API to get the user's email.\n",
      "    - [x] Create a function that will take in the user's access token and refresh token and use the Gmail API to get the user's email.\n",
      "    - [x] Create a function that will take in the user's access token and refresh token and use the Gmail API to get the user's email.\n",
      "    - [x] Create a function that will take in the user's access token and refresh token and use the Gmail API\n"
     ]
    }
   ],
   "source": [
    "response_4 = openai.Completion.create(\n",
    "    model=\"code-davinci-002\", prompt=\"\"\"Using Python and Flask, Create an Oauth flow using Gmail API for users to sign in. Store their access tokens and refresh tokens in a GCP bucket for that specific user.\n",
    "    \"\"\", temperature=0.2, max_tokens=1000)\n",
    "response_4.choices[0].text\n",
    "print(response_4.choices[0].text)"
   ]
  }
 ],
 "metadata": {
  "kernelspec": {
   "display_name": "venv",
   "language": "python",
   "name": "python3"
  },
  "language_info": {
   "codemirror_mode": {
    "name": "ipython",
    "version": 3
   },
   "file_extension": ".py",
   "mimetype": "text/x-python",
   "name": "python",
   "nbconvert_exporter": "python",
   "pygments_lexer": "ipython3",
   "version": "3.8.7"
  },
  "orig_nbformat": 4,
  "vscode": {
   "interpreter": {
    "hash": "a6c6577c8434fd5512cb4e3e08e32d41eee0dfff116ece02eefec9c5cbca1b9b"
   }
  }
 },
 "nbformat": 4,
 "nbformat_minor": 2
}
